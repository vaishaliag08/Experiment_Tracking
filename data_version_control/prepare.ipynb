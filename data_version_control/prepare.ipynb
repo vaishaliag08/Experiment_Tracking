{
 "cells": [
  {
   "cell_type": "markdown",
   "metadata": {},
   "source": [
    "## Setup"
   ]
  },
  {
   "cell_type": "code",
   "execution_count": 2,
   "metadata": {},
   "outputs": [],
   "source": [
    "import os"
   ]
  },
  {
   "cell_type": "code",
   "execution_count": 5,
   "metadata": {},
   "outputs": [
    {
     "name": "stdout",
     "output_type": "stream",
     "text": [
      " Volume in drive C is Windows-SSD\n",
      " Volume Serial Number is 0480-145C\n",
      "\n",
      " Directory of c:\\Users\\Vaishali Agarwal\\OneDrive\\Documents\\CMI\\Applied ML\\Assignment_02\\data_version_control\n",
      "\n",
      "20-02-2024  23:47    <DIR>          .\n",
      "20-02-2024  20:17    <DIR>          ..\n",
      "20-02-2024  20:09    <DIR>          .dvc\n",
      "20-02-2024  20:09               142 .dvcignore\n",
      "20-02-2024  20:36    <DIR>          data\n",
      "20-02-2024  23:47               234 prepare.ipynb\n",
      "               2 File(s)            376 bytes\n",
      "               4 Dir(s)  171,271,278,592 bytes free\n"
     ]
    }
   ],
   "source": [
    "!dir"
   ]
  },
  {
   "cell_type": "code",
   "execution_count": 11,
   "metadata": {},
   "outputs": [
    {
     "name": "stdout",
     "output_type": "stream",
     "text": [
      "Initialized DVC repository.\n",
      "\n",
      "You can now commit the changes to git.\n",
      "\n",
      "+---------------------------------------------------------------------+\n",
      "|                                                                     |\n",
      "|        DVC has enabled anonymous aggregate usage analytics.         |\n",
      "|     Read the analytics documentation (and how to opt-out) here:     |\n",
      "|             <https://dvc.org/doc/user-guide/analytics>              |\n",
      "|                                                                     |\n",
      "+---------------------------------------------------------------------+\n",
      "\n",
      "What's next?\n",
      "------------\n",
      "- Check out the documentation: <https://dvc.org/doc>\n",
      "- Get help and share ideas: <https://dvc.org/chat>\n",
      "- Star us on GitHub: <https://github.com/iterative/dvc>\n",
      "Reinitialized existing Git repository in C:/Users/Vaishali Agarwal/OneDrive/Documents/CMI/Applied ML/Assignment_02/data_version_control/.git/\n"
     ]
    }
   ],
   "source": [
    "!dvc init --subdir\n",
    "!git init"
   ]
  },
  {
   "cell_type": "code",
   "execution_count": 14,
   "metadata": {},
   "outputs": [
    {
     "name": "stdout",
     "output_type": "stream",
     "text": [
      "On branch master\n",
      "\n",
      "No commits yet\n",
      "\n",
      "Changes to be committed:\n",
      "  (use \"git rm --cached <file>...\" to unstage)\n",
      "\tnew file:   .dvc/.gitignore\n",
      "\tnew file:   .dvc/config\n",
      "\tnew file:   .dvcignore\n",
      "\n",
      "Changes not staged for commit:\n",
      "  (use \"git add <file>...\" to update what will be committed)\n",
      "  (use \"git restore <file>...\" to discard changes in working directory)\n",
      "\tmodified:   .dvc/config\n",
      "\n",
      "Untracked files:\n",
      "  (use \"git add <file>...\" to include in what will be committed)\n",
      "\tdata/\n",
      "\tprepare.ipynb\n",
      "\n",
      "[master (root-commit) 49fe1d0] DVC initialized\n",
      " 3 files changed, 6 insertions(+)\n",
      " create mode 100644 .dvc/.gitignore\n",
      " create mode 100644 .dvc/config\n",
      " create mode 100644 .dvcignore\n"
     ]
    }
   ],
   "source": [
    "!git status\n",
    "!git commit -m \"DVC initialized\""
   ]
  },
  {
   "cell_type": "markdown",
   "metadata": {},
   "source": [
    "#### Setting google drive as remote storage"
   ]
  },
  {
   "cell_type": "code",
   "execution_count": 81,
   "metadata": {},
   "outputs": [
    {
     "name": "stdout",
     "output_type": "stream",
     "text": [
      "Setting 'remote_storage' as a default remote.\n"
     ]
    }
   ],
   "source": [
    "!dvc remote add -d remote_storage gdrive://10erQZzAuN836exH6vS-VsMSXd0dJytwt -f"
   ]
  },
  {
   "cell_type": "code",
   "execution_count": 33,
   "metadata": {},
   "outputs": [
    {
     "name": "stdout",
     "output_type": "stream",
     "text": [
      "On branch master\n",
      "Changes to be committed:\n",
      "  (use \"git restore --staged <file>...\" to unstage)\n",
      "\tmodified:   .dvc/config\n",
      "\n",
      "Untracked files:\n",
      "  (use \"git add <file>...\" to include in what will be committed)\n",
      "\tdata/raw/emails.csv\n",
      "\tprepare.ipynb\n",
      "\n",
      "[master 9469b5b] Updated remote storage\n",
      " 1 file changed, 1 insertion(+), 1 deletion(-)\n"
     ]
    }
   ],
   "source": [
    "!git add .dvc/config\n",
    "!git status\n",
    "!git commit -m \"Updated remote storage\""
   ]
  },
  {
   "cell_type": "markdown",
   "metadata": {},
   "source": [
    "## Import Libraries"
   ]
  },
  {
   "cell_type": "code",
   "execution_count": null,
   "metadata": {},
   "outputs": [],
   "source": [
    "import pandas as pd\n",
    "import numpy as np\n",
    "import string\n",
    "import re\n",
    "\n",
    "from sklearn.model_selection import train_test_split\n",
    "\n",
    "import nltk\n",
    "from nltk.tokenize import WhitespaceTokenizer\n",
    "from nltk.stem import WordNetLemmatizer\n",
    "\n",
    "nltk.download(\"wordnet\", quiet = True)\n",
    "nltk.download(\"stopwords\", quiet = True)"
   ]
  },
  {
   "cell_type": "markdown",
   "metadata": {},
   "source": [
    "## Pre-process data"
   ]
  },
  {
   "cell_type": "code",
   "execution_count": 12,
   "metadata": {},
   "outputs": [],
   "source": [
    "def preprocess(data):\n",
    "\n",
    "    ## add coloumn \"length\" of text\n",
    "    data[\"length\"] = data[\"text\"].apply(len)\n",
    "    data = data[data[\"length\"] < 20000].reset_index(drop = True)\n",
    "    data.drop([\"length\"], axis = 1, inplace = True)\n",
    "\n",
    "     ## convert the text into lower case\n",
    "    data[\"text\"] = data[\"text\"].apply(str.lower)\n",
    "\n",
    "    ## remove the punctuations from the text column\n",
    "    remove_punc = str.maketrans(\"\", \"\", string.punctuation)\n",
    "    data[\"text\"] = data[\"text\"].apply(lambda x: x.translate(remove_punc))\n",
    "\n",
    "    ## remove the words \"subject\" and \"re\" from the text column\n",
    "    data[\"text\"] = data[\"text\"].apply(lambda x: x.replace(\"subject\", \"\", 1))\n",
    "    data[\"text\"] = data[\"text\"].apply(lambda x: x.replace(\"re\", \"\", 1))\n",
    "\n",
    "    ## remove numbers from the text column\n",
    "    data[\"text\"] = data[\"text\"].apply(lambda x: re.sub(r\"\\d+\", \"\", x))\n",
    "\n",
    "    ## remove stopwords from the text column\n",
    "    stopwords = nltk.corpus.stopwords.words(\"english\")\n",
    "\n",
    "    ## split the sentence into words to figure out the stopwords, use whitespacetokenizer for that\n",
    "    tokenizer = WhitespaceTokenizer()\n",
    "    data[\"text\"] = data[\"text\"].apply(lambda x: tokenizer.tokenize(x))\n",
    "    data[\"text\"] = data[\"text\"].apply(lambda x: [word for word in x if word not in stopwords])\n",
    "\n",
    "    ## lemmatization using the wordnet\n",
    "    lemmatizer = WordNetLemmatizer()\n",
    "    data[\"text\"] = data[\"text\"].apply(lambda x: [lemmatizer.lemmatize(word) for word in x])\n",
    "    \n",
    "    ## remove single character words\n",
    "    data[\"text\"] = data[\"text\"].apply(lambda x: [word for word in x if len(word)>1])\n",
    "\n",
    "    ## join the tokens into the string\n",
    "    data[\"text\"] = data[\"text\"].apply(lambda x: \" \".join(x))\n",
    "    return data "
   ]
  },
  {
   "cell_type": "code",
   "execution_count": 13,
   "metadata": {},
   "outputs": [],
   "source": [
    "def train_val_test(data, seed):\n",
    "    train, test = train_test_split(data, test_size = 0.1, random_state = seed)\n",
    "    train, val = train_test_split(train, test_size = 0.11, random_state = seed) ## 0.9*0.11 = 0.099 ~ 0.1\n",
    "    return train, val, test"
   ]
  },
  {
   "cell_type": "code",
   "execution_count": 41,
   "metadata": {},
   "outputs": [],
   "source": [
    "## load the raw dataset\n",
    "data = pd.read_csv(\"./data/raw/emails.csv\")\n",
    "## clean and preprocess the data\n",
    "raw_data = preprocess(data)\n",
    "## split data into train, validation and test datasets with specific random seed\n",
    "train, val, test = train_val_test(raw_data, 64)"
   ]
  },
  {
   "cell_type": "markdown",
   "metadata": {},
   "source": [
    "#### Save the data"
   ]
  },
  {
   "cell_type": "code",
   "execution_count": 42,
   "metadata": {},
   "outputs": [],
   "source": [
    "## save the pre-processed raw data in the raw folder\n",
    "raw_data.to_csv(\"./data/raw/raw_data.csv\", header = True, index = False)\n",
    "\n",
    "## save the split data in the prepared folder\n",
    "train.to_csv(\"./data/prepared/train.csv\", header = True, index = False)\n",
    "val.to_csv(\"./data/prepared/validation.csv\", header = True, index = False)\n",
    "test.to_csv(\"./data/prepared/test.csv\", header = True, index = False)"
   ]
  },
  {
   "cell_type": "markdown",
   "metadata": {},
   "source": [
    "## Track data versions with dvc"
   ]
  },
  {
   "cell_type": "code",
   "execution_count": 4,
   "metadata": {},
   "outputs": [],
   "source": [
    "current_dir = os.getcwd()\n",
    "os.chdir(\"./data/raw\")"
   ]
  },
  {
   "cell_type": "markdown",
   "metadata": {},
   "source": [
    "### For raw data"
   ]
  },
  {
   "cell_type": "code",
   "execution_count": 48,
   "metadata": {},
   "outputs": [
    {
     "name": "stdout",
     "output_type": "stream",
     "text": [
      "\n",
      "To track the changes with git, run:\n",
      "\n",
      "\tgit add raw_data.csv.dvc .gitignore\n",
      "\n",
      "To enable auto staging, run:\n",
      "\n",
      "\tdvc config core.autostage true\n"
     ]
    },
    {
     "name": "stderr",
     "output_type": "stream",
     "text": [
      "⠋ Checking graph\n",
      "\n"
     ]
    }
   ],
   "source": [
    "!dvc add raw_data.csv"
   ]
  },
  {
   "cell_type": "code",
   "execution_count": 49,
   "metadata": {},
   "outputs": [
    {
     "name": "stdout",
     "output_type": "stream",
     "text": [
      "On branch master\n",
      "Untracked files:\n",
      "  (use \"git add <file>...\" to include in what will be committed)\n",
      "\t../\n",
      "\t../../prepare.ipynb\n",
      "\n",
      "nothing added to commit but untracked files present (use \"git add\" to track)\n",
      "[master 9242445] updates raw data\n",
      " 2 files changed, 6 insertions(+)\n",
      " create mode 100644 data/raw/.gitignore\n",
      " create mode 100644 data/raw/raw_data.csv.dvc\n"
     ]
    }
   ],
   "source": [
    "!git status\n",
    "!git add raw_data.csv.dvc .gitignore\n",
    "!git commit -m \"updates raw data\""
   ]
  },
  {
   "cell_type": "markdown",
   "metadata": {},
   "source": [
    "### For split data"
   ]
  },
  {
   "cell_type": "code",
   "execution_count": 5,
   "metadata": {},
   "outputs": [],
   "source": [
    "os.chdir(current_dir)\n",
    "os.chdir(\"./data/prepared\")"
   ]
  },
  {
   "cell_type": "code",
   "execution_count": 58,
   "metadata": {},
   "outputs": [
    {
     "name": "stdout",
     "output_type": "stream",
     "text": [
      "\n",
      "To track the changes with git, run:\n",
      "\n",
      "\tgit add .gitignore validation.csv.dvc test.csv.dvc train.csv.dvc\n",
      "\n",
      "To enable auto staging, run:\n",
      "\n",
      "\tdvc config core.autostage true\n"
     ]
    },
    {
     "name": "stderr",
     "output_type": "stream",
     "text": [
      "⠋ Checking graph\n",
      "\n"
     ]
    }
   ],
   "source": [
    "!dvc add train.csv validation.csv test.csv"
   ]
  },
  {
   "cell_type": "code",
   "execution_count": 59,
   "metadata": {},
   "outputs": [
    {
     "name": "stdout",
     "output_type": "stream",
     "text": [
      "On branch master\n",
      "Untracked files:\n",
      "  (use \"git add <file>...\" to include in what will be committed)\n",
      "\t./\n",
      "\t../raw/emails.csv\n",
      "\t../../prepare.ipynb\n",
      "\n",
      "nothing added to commit but untracked files present (use \"git add\" to track)\n",
      "[master 0070648] initialize data versioning with dvc\n",
      " 4 files changed, 18 insertions(+)\n",
      " create mode 100644 data/prepared/.gitignore\n",
      " create mode 100644 data/prepared/test.csv.dvc\n",
      " create mode 100644 data/prepared/train.csv.dvc\n",
      " create mode 100644 data/prepared/validation.csv.dvc\n"
     ]
    }
   ],
   "source": [
    "!git status\n",
    "!git add train.csv.dvc validation.csv.dvc test.csv.dvc .gitignore\n",
    "!git commit -m \"initialize data versioning with dvc\""
   ]
  },
  {
   "cell_type": "code",
   "execution_count": 82,
   "metadata": {},
   "outputs": [
    {
     "name": "stdout",
     "output_type": "stream",
     "text": [
      "Your browser has been opened to visit:\n",
      "\n",
      "    https://accounts.google.com/o/oauth2/auth?client_id=710796635688-iivsgbgsb6uv1fap6635dhvuei09o66c.apps.googleusercontent.com&redirect_uri=http%3A%2F%2Flocalhost%3A8080%2F&scope=https%3A%2F%2Fwww.googleapis.com%2Fauth%2Fdrive+https%3A%2F%2Fwww.googleapis.com%2Fauth%2Fdrive.appdata&access_type=offline&response_type=code&approval_prompt=force\n",
      "\n",
      "Authentication successful.\n",
      "4 files pushed\n"
     ]
    },
    {
     "name": "stderr",
     "output_type": "stream",
     "text": [
      "C:\\Users\\Vaishali Agarwal\\OneDrive\\Documents\\CMI\\Applied ML\\Assignment_02\\venv\\lib\\site-packages\\oauth2client\\_helpers.py:255: UserWarning: Cannot access C:\\Users\\Vaishali Agarwal\\AppData\\Local\\pydrive2fs\\Cache\\710796635688-iivsgbgsb6uv1fap6635dhvuei09o66c.apps.googleusercontent.com\\default.json: No such file or directory\n",
      "  warnings.warn(_MISSING_FILE_MESSAGE.format(filename))\n"
     ]
    }
   ],
   "source": [
    "!dvc push"
   ]
  },
  {
   "cell_type": "markdown",
   "metadata": {},
   "source": [
    "### Data versions with different random seed"
   ]
  },
  {
   "cell_type": "code",
   "execution_count": 84,
   "metadata": {},
   "outputs": [],
   "source": [
    "train, val, test = train_val_test(raw_data, 74)"
   ]
  },
  {
   "cell_type": "code",
   "execution_count": 86,
   "metadata": {},
   "outputs": [],
   "source": [
    "## save the data\n",
    "train.to_csv(\"./train.csv\", header = True, index = False)\n",
    "val.to_csv(\"./validation.csv\", header = True, index = False)\n",
    "test.to_csv(\"./test.csv\", header = True, index = False)"
   ]
  },
  {
   "cell_type": "code",
   "execution_count": 87,
   "metadata": {},
   "outputs": [
    {
     "name": "stdout",
     "output_type": "stream",
     "text": [
      "\n",
      "To track the changes with git, run:\n",
      "\n",
      "\tgit add validation.csv.dvc test.csv.dvc train.csv.dvc\n",
      "\n",
      "To enable auto staging, run:\n",
      "\n",
      "\tdvc config core.autostage true\n"
     ]
    },
    {
     "name": "stderr",
     "output_type": "stream",
     "text": [
      "⠋ Checking graph\n",
      "\n"
     ]
    }
   ],
   "source": [
    "## add updated data splits to DVC\n",
    "!dvc add train.csv validation.csv test.csv"
   ]
  },
  {
   "cell_type": "code",
   "execution_count": 88,
   "metadata": {},
   "outputs": [
    {
     "name": "stdout",
     "output_type": "stream",
     "text": [
      "On branch master\n",
      "Changes not staged for commit:\n",
      "  (use \"git add <file>...\" to update what will be committed)\n",
      "  (use \"git restore <file>...\" to discard changes in working directory)\n",
      "\tmodified:   ../../.dvc/config\n",
      "\tmodified:   test.csv.dvc\n",
      "\tmodified:   train.csv.dvc\n",
      "\tmodified:   validation.csv.dvc\n",
      "\n",
      "Untracked files:\n",
      "  (use \"git add <file>...\" to include in what will be committed)\n",
      "\t../raw/emails.csv\n",
      "\t../../prepare.ipynb\n",
      "\n",
      "no changes added to commit (use \"git add\" and/or \"git commit -a\")\n",
      "[master 2327bbc] updated data splits with new random seed\n",
      " 3 files changed, 6 insertions(+), 6 deletions(-)\n"
     ]
    }
   ],
   "source": [
    "!git status\n",
    "!git add train.csv.dvc validation.csv.dvc test.csv.dvc .gitignore\n",
    "!git commit -m \"updated data splits with new random seed\""
   ]
  },
  {
   "cell_type": "code",
   "execution_count": 89,
   "metadata": {},
   "outputs": [
    {
     "name": "stdout",
     "output_type": "stream",
     "text": [
      "3 files pushed\n"
     ]
    }
   ],
   "source": [
    "## push the new data split version to remote storage\n",
    "!dvc push"
   ]
  },
  {
   "cell_type": "markdown",
   "metadata": {},
   "source": [
    "## Chechout the versions"
   ]
  },
  {
   "cell_type": "code",
   "execution_count": 14,
   "metadata": {},
   "outputs": [
    {
     "name": "stdout",
     "output_type": "stream",
     "text": [
      "commit 2327bbc7ee40810db990f0f4b7751acbcc4862ee\n",
      "Author: vaishaliag08 <vaishaliagarwal2008@gmail.com>\n",
      "Date:   Wed Feb 21 19:29:56 2024 +0530\n",
      "\n",
      "    updated data splits with new random seed\n",
      "\n",
      "commit 007064838b060a1860b9418f6dded7280ce3607e\n",
      "Author: vaishaliag08 <vaishaliagarwal2008@gmail.com>\n",
      "Date:   Wed Feb 21 17:31:11 2024 +0530\n",
      "\n",
      "    initialize data versioning with dvc\n",
      "\n",
      "commit 9242445560b0d4cf7319adffb27f610543b42270\n",
      "Author: vaishaliag08 <vaishaliagarwal2008@gmail.com>\n",
      "Date:   Wed Feb 21 17:24:13 2024 +0530\n",
      "\n",
      "    updates raw data\n",
      "\n",
      "commit cdc86d9b7de5ca58e671de1411081626b6ef66cb\n",
      "Author: vaishaliag08 <vaishaliagarwal2008@gmail.com>\n",
      "Date:   Wed Feb 21 15:48:20 2024 +0530\n",
      "\n",
      "    Updated remote storage\n",
      "\n",
      "commit 49fe1d00f8f206d5682092ee5be9c1b3995233ed\n",
      "Author: vaishaliag08 <vaishaliagarwal2008@gmail.com>\n",
      "Date:   Wed Feb 21 15:44:48 2024 +0530\n",
      "\n",
      "    DVC initialized\n"
     ]
    }
   ],
   "source": [
    "!git log"
   ]
  },
  {
   "cell_type": "markdown",
   "metadata": {},
   "source": [
    "#### First split"
   ]
  },
  {
   "cell_type": "code",
   "execution_count": 15,
   "metadata": {},
   "outputs": [
    {
     "name": "stderr",
     "output_type": "stream",
     "text": [
      "Updated 0 paths from 6ea6557\n"
     ]
    }
   ],
   "source": [
    "!git checkout 007064838b060a1860b9418f6dded7280ce3607e train.csv.dvc validation.csv.dvc test.csv.dvc"
   ]
  },
  {
   "cell_type": "code",
   "execution_count": 16,
   "metadata": {},
   "outputs": [],
   "source": [
    "!dvc checkout"
   ]
  },
  {
   "cell_type": "code",
   "execution_count": 17,
   "metadata": {},
   "outputs": [],
   "source": [
    "train = pd.read_csv(\"./train.csv\")\n",
    "val = pd.read_csv(\"./validation.csv\")\n",
    "test = pd.read_csv(\"./test.csv\")"
   ]
  },
  {
   "cell_type": "code",
   "execution_count": 25,
   "metadata": {},
   "outputs": [
    {
     "name": "stdout",
     "output_type": "stream",
     "text": [
      "Train distribution:\n",
      "Number of 0s: 3487\n",
      "Number of 1s: 1095\n",
      "--------------------------------\n",
      "Validation distribution:\n",
      "Number of 0s: 439\n",
      "Number of 1s: 128\n",
      "--------------------------------\n",
      "Test distribution:\n",
      "Number of 0s: 430\n",
      "Number of 1s: 143\n",
      "--------------------------------\n"
     ]
    }
   ],
   "source": [
    "print(\"Train distribution:\")\n",
    "print(\"Number of 0s: {}\".format(train[\"spam\"].value_counts()[0]))\n",
    "print(\"Number of 1s: {}\".format(train[\"spam\"].value_counts()[1]))\n",
    "print(\"-\"*32)\n",
    "print(\"Validation distribution:\")\n",
    "print(\"Number of 0s: {}\".format(val[\"spam\"].value_counts()[0]))\n",
    "print(\"Number of 1s: {}\".format(val[\"spam\"].value_counts()[1]))\n",
    "print(\"-\"*32)\n",
    "print(\"Test distribution:\")\n",
    "print(\"Number of 0s: {}\".format(test[\"spam\"].value_counts()[0]))\n",
    "print(\"Number of 1s: {}\".format(test[\"spam\"].value_counts()[1]))\n",
    "print(\"-\"*32)"
   ]
  },
  {
   "cell_type": "markdown",
   "metadata": {},
   "source": [
    "#### Second split"
   ]
  },
  {
   "cell_type": "code",
   "execution_count": 26,
   "metadata": {},
   "outputs": [
    {
     "name": "stderr",
     "output_type": "stream",
     "text": [
      "Updated 3 paths from ac98dfe\n"
     ]
    }
   ],
   "source": [
    "!git checkout 2327bbc7ee40810db990f0f4b7751acbcc4862ee train.csv.dvc validation.csv.dvc test.csv.dvc"
   ]
  },
  {
   "cell_type": "code",
   "execution_count": 27,
   "metadata": {},
   "outputs": [
    {
     "name": "stdout",
     "output_type": "stream",
     "text": [
      "M       train.csv\n",
      "M       test.csv\n",
      "M       validation.csv\n"
     ]
    }
   ],
   "source": [
    "!dvc checkout"
   ]
  },
  {
   "cell_type": "code",
   "execution_count": 28,
   "metadata": {},
   "outputs": [],
   "source": [
    "train = pd.read_csv(\"./train.csv\")\n",
    "val = pd.read_csv(\"./validation.csv\")\n",
    "test = pd.read_csv(\"./test.csv\")"
   ]
  },
  {
   "cell_type": "code",
   "execution_count": 29,
   "metadata": {},
   "outputs": [
    {
     "name": "stdout",
     "output_type": "stream",
     "text": [
      "Train distribution:\n",
      "Number of 0s: 3479\n",
      "Number of 1s: 1103\n",
      "--------------------------------\n",
      "Validation distribution:\n",
      "Number of 0s: 438\n",
      "Number of 1s: 129\n",
      "--------------------------------\n",
      "Test distribution:\n",
      "Number of 0s: 439\n",
      "Number of 1s: 134\n",
      "--------------------------------\n"
     ]
    }
   ],
   "source": [
    "print(\"Train distribution:\")\n",
    "print(\"Number of 0s: {}\".format(train[\"spam\"].value_counts()[0]))\n",
    "print(\"Number of 1s: {}\".format(train[\"spam\"].value_counts()[1]))\n",
    "print(\"-\"*32)\n",
    "print(\"Validation distribution:\")\n",
    "print(\"Number of 0s: {}\".format(val[\"spam\"].value_counts()[0]))\n",
    "print(\"Number of 1s: {}\".format(val[\"spam\"].value_counts()[1]))\n",
    "print(\"-\"*32)\n",
    "print(\"Test distribution:\")\n",
    "print(\"Number of 0s: {}\".format(test[\"spam\"].value_counts()[0]))\n",
    "print(\"Number of 1s: {}\".format(test[\"spam\"].value_counts()[1]))\n",
    "print(\"-\"*32)"
   ]
  },
  {
   "cell_type": "code",
   "execution_count": 30,
   "metadata": {},
   "outputs": [
    {
     "name": "stdout",
     "output_type": "stream",
     "text": [
      "On branch master\n",
      "Changes not staged for commit:\n",
      "  (use \"git add <file>...\" to update what will be committed)\n",
      "  (use \"git restore <file>...\" to discard changes in working directory)\n",
      "\tmodified:   ../../.dvc/config\n",
      "\n",
      "Untracked files:\n",
      "  (use \"git add <file>...\" to include in what will be committed)\n",
      "\t../raw/emails.csv\n",
      "\t../../prepare.ipynb\n",
      "\n",
      "no changes added to commit (use \"git add\" and/or \"git commit -a\")\n"
     ]
    }
   ],
   "source": [
    "!git add \n",
    "!git commit"
   ]
  },
  {
   "cell_type": "code",
   "execution_count": null,
   "metadata": {},
   "outputs": [],
   "source": []
  }
 ],
 "metadata": {
  "kernelspec": {
   "display_name": "venv",
   "language": "python",
   "name": "python3"
  },
  "language_info": {
   "codemirror_mode": {
    "name": "ipython",
    "version": 3
   },
   "file_extension": ".py",
   "mimetype": "text/x-python",
   "name": "python",
   "nbconvert_exporter": "python",
   "pygments_lexer": "ipython3",
   "version": "3.10.7"
  }
 },
 "nbformat": 4,
 "nbformat_minor": 2
}
